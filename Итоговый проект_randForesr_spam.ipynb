{
 "cells": [
  {
   "cell_type": "code",
   "execution_count": 15,
   "metadata": {},
   "outputs": [],
   "source": [
    "import pandas as pd\n",
    "import matplotlib.pyplot as plt\n",
    "import seaborn as sns\n",
    "import kagglehub\n",
    "from sklearn.model_selection import train_test_split\n",
    "from sklearn.preprocessing import StandardScaler\n",
    "import tensorflow as tf\n",
    "import numpy as np\n",
    "from tensorflow.keras.models import Sequential\n",
    "from tensorflow.keras.layers import Dense, Input\n",
    "from tensorflow.keras.preprocessing.text import Tokenizer\n",
    "from tensorflow.keras.preprocessing.sequence import pad_sequences\n",
    "from imblearn.over_sampling import RandomOverSampler\n",
    "from sklearn.model_selection import train_test_split\n",
    "from sklearn.feature_extraction.text import TfidfVectorizer\n",
    "from sklearn.ensemble import RandomForestClassifier\n",
    "from sklearn.metrics import accuracy_score, f1_score, roc_auc_score\n"
   ]
  },
  {
   "cell_type": "code",
   "execution_count": 16,
   "metadata": {},
   "outputs": [
    {
     "name": "stdout",
     "output_type": "stream",
     "text": [
      "Warning: Looks like you're using an outdated `kagglehub` version (installed: 0.3.5), please consider upgrading to the latest version (0.3.6).\n",
      "Path to dataset files: C:\\Users\\HONOR\\.cache\\kagglehub\\datasets\\uciml\\sms-spam-collection-dataset\\versions\\1\n"
     ]
    }
   ],
   "source": [
    "# Download latest version\n",
    "path = kagglehub.dataset_download(\"uciml/sms-spam-collection-dataset\")\n",
    "\n",
    "print(\"Path to dataset files:\", path)"
   ]
  },
  {
   "cell_type": "code",
   "execution_count": 17,
   "metadata": {},
   "outputs": [
    {
     "name": "stdout",
     "output_type": "stream",
     "text": [
      "<class 'pandas.core.frame.DataFrame'>\n",
      "RangeIndex: 5572 entries, 0 to 5571\n",
      "Data columns (total 2 columns):\n",
      " #   Column  Non-Null Count  Dtype \n",
      "---  ------  --------------  ----- \n",
      " 0   v1      5572 non-null   object\n",
      " 1   v2      5572 non-null   object\n",
      "dtypes: object(2)\n",
      "memory usage: 87.2+ KB\n",
      "None\n"
     ]
    }
   ],
   "source": [
    "\n",
    "data = pd.read_csv('spam.csv', encoding='ISO-8859-1')\n",
    "data = data[['v1', 'v2']]\n",
    "print(data.info())\n"
   ]
  },
  {
   "cell_type": "code",
   "execution_count": 18,
   "metadata": {},
   "outputs": [],
   "source": [
    "#Беру из датасета первые 5560 строк, чтобы обучить модель (данные будут использоваться для обучения \n",
    "# и тестирования 75% на 25%), остальные строки датасета оставлю для наглядного тестирования\n",
    "\n",
    "# Выделяем первые 5560 строк для обучения и тестирования модели\n",
    "train_test_data = data.iloc[:5560]"
   ]
  },
  {
   "cell_type": "code",
   "execution_count": 19,
   "metadata": {},
   "outputs": [
    {
     "name": "stdout",
     "output_type": "stream",
     "text": [
      "Class counts after oversampling:\n",
      " v1\n",
      "ham     4815\n",
      "spam    4815\n",
      "Name: count, dtype: int64\n"
     ]
    }
   ],
   "source": [
    "ros = RandomOverSampler(random_state=42)\n",
    "\n",
    "X = train_test_data['v2'].values.reshape(-1, 1)\n",
    "y = train_test_data['v1']                        \n",
    "\n",
    "X_resampled, y_resampled = ros.fit_resample(X, y)\n",
    "\n",
    "balanced_data = pd.DataFrame(X_resampled, columns=['v2'])\n",
    "balanced_data['v1'] = y_resampled\n",
    "\n",
    "print(\"Class counts after oversampling:\\n\", balanced_data['v1'].value_counts())"
   ]
  },
  {
   "cell_type": "code",
   "execution_count": 20,
   "metadata": {},
   "outputs": [
    {
     "name": "stderr",
     "output_type": "stream",
     "text": [
      "C:\\Users\\HONOR\\AppData\\Local\\Temp\\ipykernel_2484\\2693287613.py:1: SettingWithCopyWarning: \n",
      "A value is trying to be set on a copy of a slice from a DataFrame.\n",
      "Try using .loc[row_indexer,col_indexer] = value instead\n",
      "\n",
      "See the caveats in the documentation: https://pandas.pydata.org/pandas-docs/stable/user_guide/indexing.html#returning-a-view-versus-a-copy\n",
      "  train_test_data['v1'] = train_test_data['v1'].astype(str)\n",
      "C:\\Users\\HONOR\\AppData\\Local\\Temp\\ipykernel_2484\\2693287613.py:3: SettingWithCopyWarning: \n",
      "A value is trying to be set on a copy of a slice from a DataFrame.\n",
      "Try using .loc[row_indexer,col_indexer] = value instead\n",
      "\n",
      "See the caveats in the documentation: https://pandas.pydata.org/pandas-docs/stable/user_guide/indexing.html#returning-a-view-versus-a-copy\n",
      "  train_test_data['v1'] = train_test_data['v1'].map({'ham': 0, 'spam': 1})\n"
     ]
    }
   ],
   "source": [
    "train_test_data['v1'] = train_test_data['v1'].astype(str)\n",
    "\n",
    "train_test_data['v1'] = train_test_data['v1'].map({'ham': 0, 'spam': 1})\n",
    "\n",
    "train_test_data = train_test_data.dropna(subset=['v1', 'v2'])\n",
    "\n",
    "X_text = train_test_data['v2'].values.tolist()\n",
    "y = train_test_data['v1'].values"
   ]
  },
  {
   "cell_type": "code",
   "execution_count": 21,
   "metadata": {},
   "outputs": [],
   "source": [
    "X_train_text, X_test_text, y_train, y_test = train_test_split(\n",
    "    X_text, y, test_size=0.2, random_state=42\n",
    ")"
   ]
  },
  {
   "cell_type": "code",
   "execution_count": 22,
   "metadata": {},
   "outputs": [
    {
     "name": "stdout",
     "output_type": "stream",
     "text": [
      "Accuracy: 0.9280575539568345\n",
      "F1-Score: 0.6491228070175439\n",
      "ROC-AUC: 0.7413086889256919\n"
     ]
    }
   ],
   "source": [
    "tokenizer = Tokenizer()\n",
    "tokenizer.fit_on_texts(X_train_text)\n",
    "\n",
    "X_train_seq = tokenizer.texts_to_sequences(X_train_text)\n",
    "X_test_seq = tokenizer.texts_to_sequences(X_test_text)\n",
    "\n",
    "max_length = 200\n",
    "X_train_padded = pad_sequences(X_train_seq, maxlen=max_length, padding='post')\n",
    "X_test_padded = pad_sequences(X_test_seq, maxlen=max_length, padding='post')\n",
    "\n",
    "scaler = StandardScaler()\n",
    "X_train_scaled = scaler.fit_transform(X_train_padded)\n",
    "X_test_scaled = scaler.transform(X_test_padded)\n",
    "\n",
    "model = RandomForestClassifier()\n",
    "model.fit(X_train_scaled, y_train)\n",
    "\n",
    "y_pred = model.predict(X_test_scaled)\n",
    "y_prob = model.predict_proba(X_test_scaled)[:, 1]\n",
    "\n",
    "\n",
    "print(\"Accuracy:\", accuracy_score(y_test, y_pred))\n",
    "print(\"F1-Score:\", f1_score(y_test, y_pred))\n",
    "print(\"ROC-AUC:\", roc_auc_score(y_test, y_pred))"
   ]
  },
  {
   "cell_type": "markdown",
   "metadata": {},
   "source": [
    "### Чтобы протестировать модель возьму столбцы датасета, которые не были использованы в обучении модели. Выделенные строки относятся к SPAM.\n",
    "\n",
    "1. No. I meant the calculation is the same. That  &lt;#&gt; units at  &lt;#&gt; . This school is really expensive. Have you started practicing your accent.\n",
    "2. Because its important. And have you decided if you are doing 4years of dental school or if you'll just do the nmde exam.\n",
    "3. \"Sorry, I'll call later\"\n",
    "4. if you aren't here in the next  &lt;#&gt;  hours imma flip my shit\n",
    "5. Anything lor. Juz both of us lor.\n",
    "6. Get me out of this dump heap. My mom decided to come to lowes. BORING.\n",
    "7. Ok lor... Sony ericsson salesman... I ask shuhui then she say quite gd 2 use so i considering...\n",
    "8. Ard 6 like dat lor.\n",
    "9. Why don't you wait 'til at least wednesday to see if you get your .\n",
    "10. Huh y lei...\n",
    "\n",
    "**11. \"REMINDER FROM O2: To get 2.50 pounds free call credit and details of great offers pls reply 2 this text with your valid name, house no and postcode\"**\n",
    "\n",
    "\n",
    "**12. \"This is the 2nd time we have tried 2 contact u. U have won the �750 Pound prize. 2 claim is easy, call 087187272008 NOW1! Only 10p per minute. BT-national-rate.\"**\n",
    "\n",
    "13. Will �_ b going to esplanade fr home?\n",
    "14. \"Pity, * was in mood for that. So...any other suggestions?\"\n",
    "15. The guy did some bitching but I acted like i'd be interested in buying something else next week and he gave it to us for free\n",
    "16. Rofl. Its true to its name\n",
    "\n",
    "\n"
   ]
  },
  {
   "cell_type": "code",
   "execution_count": 27,
   "metadata": {},
   "outputs": [
    {
     "data": {
      "text/html": [
       "<div>\n",
       "<style scoped>\n",
       "    .dataframe tbody tr th:only-of-type {\n",
       "        vertical-align: middle;\n",
       "    }\n",
       "\n",
       "    .dataframe tbody tr th {\n",
       "        vertical-align: top;\n",
       "    }\n",
       "\n",
       "    .dataframe thead th {\n",
       "        text-align: right;\n",
       "    }\n",
       "</style>\n",
       "<table border=\"1\" class=\"dataframe\">\n",
       "  <thead>\n",
       "    <tr style=\"text-align: right;\">\n",
       "      <th></th>\n",
       "      <th>text</th>\n",
       "      <th>label</th>\n",
       "    </tr>\n",
       "  </thead>\n",
       "  <tbody>\n",
       "    <tr>\n",
       "      <th>0</th>\n",
       "      <td>No. I meant the calculation is the same. That ...</td>\n",
       "      <td>0</td>\n",
       "    </tr>\n",
       "    <tr>\n",
       "      <th>1</th>\n",
       "      <td>Because its important. And have you decided if...</td>\n",
       "      <td>0</td>\n",
       "    </tr>\n",
       "    <tr>\n",
       "      <th>2</th>\n",
       "      <td>Sorry, I'll call later</td>\n",
       "      <td>0</td>\n",
       "    </tr>\n",
       "    <tr>\n",
       "      <th>3</th>\n",
       "      <td>if you aren't here in the next &lt;#&gt; hours imma ...</td>\n",
       "      <td>0</td>\n",
       "    </tr>\n",
       "    <tr>\n",
       "      <th>4</th>\n",
       "      <td>Anything lor. Juz both of us lor.</td>\n",
       "      <td>0</td>\n",
       "    </tr>\n",
       "    <tr>\n",
       "      <th>5</th>\n",
       "      <td>Get me out of this dump heap. My mom decided t...</td>\n",
       "      <td>0</td>\n",
       "    </tr>\n",
       "    <tr>\n",
       "      <th>6</th>\n",
       "      <td>Ok lor... Sony ericsson salesman... I ask shuh...</td>\n",
       "      <td>0</td>\n",
       "    </tr>\n",
       "    <tr>\n",
       "      <th>7</th>\n",
       "      <td>Ard 6 like dat lor.</td>\n",
       "      <td>0</td>\n",
       "    </tr>\n",
       "    <tr>\n",
       "      <th>8</th>\n",
       "      <td>Why don't you wait 'til at least wednesday to ...</td>\n",
       "      <td>0</td>\n",
       "    </tr>\n",
       "    <tr>\n",
       "      <th>9</th>\n",
       "      <td>Huh y lei...</td>\n",
       "      <td>0</td>\n",
       "    </tr>\n",
       "    <tr>\n",
       "      <th>10</th>\n",
       "      <td>REMINDER FROM O2: To get 2.50 pounds free call...</td>\n",
       "      <td>0</td>\n",
       "    </tr>\n",
       "    <tr>\n",
       "      <th>11</th>\n",
       "      <td>This is the 2nd time we have tried 2 contact u...</td>\n",
       "      <td>1</td>\n",
       "    </tr>\n",
       "    <tr>\n",
       "      <th>12</th>\n",
       "      <td>Will �_ b going to esplanade fr home?</td>\n",
       "      <td>0</td>\n",
       "    </tr>\n",
       "    <tr>\n",
       "      <th>13</th>\n",
       "      <td>'Pity, * was in mood for that. So...any other ...</td>\n",
       "      <td>0</td>\n",
       "    </tr>\n",
       "    <tr>\n",
       "      <th>14</th>\n",
       "      <td>The guy did some bitching but I acted like i'd...</td>\n",
       "      <td>0</td>\n",
       "    </tr>\n",
       "    <tr>\n",
       "      <th>15</th>\n",
       "      <td>Rofl. Its true to its name</td>\n",
       "      <td>0</td>\n",
       "    </tr>\n",
       "  </tbody>\n",
       "</table>\n",
       "</div>"
      ],
      "text/plain": [
       "                                                 text  label\n",
       "0   No. I meant the calculation is the same. That ...      0\n",
       "1   Because its important. And have you decided if...      0\n",
       "2                              Sorry, I'll call later      0\n",
       "3   if you aren't here in the next <#> hours imma ...      0\n",
       "4                   Anything lor. Juz both of us lor.      0\n",
       "5   Get me out of this dump heap. My mom decided t...      0\n",
       "6   Ok lor... Sony ericsson salesman... I ask shuh...      0\n",
       "7                                 Ard 6 like dat lor.      0\n",
       "8   Why don't you wait 'til at least wednesday to ...      0\n",
       "9                                        Huh y lei...      0\n",
       "10  REMINDER FROM O2: To get 2.50 pounds free call...      0\n",
       "11  This is the 2nd time we have tried 2 contact u...      1\n",
       "12              Will �_ b going to esplanade fr home?      0\n",
       "13  'Pity, * was in mood for that. So...any other ...      0\n",
       "14  The guy did some bitching but I acted like i'd...      0\n",
       "15                         Rofl. Its true to its name      0"
      ]
     },
     "execution_count": 27,
     "metadata": {},
     "output_type": "execute_result"
    }
   ],
   "source": [
    "\n",
    "new_data = [\n",
    "    \"No. I meant the calculation is the same. That <#> units at <#>. This school is really expensive. Have you started practicing your accent. Because it's important. And have you decided if you are doing 4 years of dental school or if you'll just do the nmde exam.\",\n",
    "    \"Because its important. And have you decided if you are doing 4years of dental school or if you'll just do the nmde exam.\",\n",
    "    \"Sorry, I'll call later\",\n",
    "    \"if you aren't here in the next <#> hours imma flip my shit\",\n",
    "    \"Anything lor. Juz both of us lor.\",\n",
    "    \"Get me out of this dump heap. My mom decided to come to lowes. BORING.\",\n",
    "    \"Ok lor... Sony ericsson salesman... I ask shuhui then she say quite gd 2 use so i considering...\",\n",
    "    \"Ard 6 like dat lor.\",\n",
    "    \"Why don't you wait 'til at least wednesday to see if you get your .\",\n",
    "    \"Huh y lei...\",\n",
    "    \"REMINDER FROM O2: To get 2.50 pounds free call credit and details of great offers pls reply 2 this text with your valid name, house no and postcode\",\n",
    "    \"This is the 2nd time we have tried 2 contact u. U have won the £750 Pound prize. To claim is easy, call 087187272008 NOW1! Only 10p per minute. BT-national-rate.\",\n",
    "    \"Will �_ b going to esplanade fr home?\",\n",
    "    \"'Pity, * was in mood for that. So...any other suggestions?'\",\n",
    "    \"The guy did some bitching but I acted like i'd be interested in buying something else next week and he gave it to us for free\",\n",
    "    \"Rofl. Its true to its name\"\n",
    "]\n",
    "\n",
    "# Преобразуем текстовые данные в числовые последовательности с помощью обученного Tokenizer\n",
    "new_sequences = tokenizer.texts_to_sequences(new_data)\n",
    "new_padded = pad_sequences(new_sequences, maxlen=200, padding='post')\n",
    "\n",
    "# Масштабируем новые данные с помощью обученного StandardScaler\n",
    "new_scaled = scaler.transform(new_padded)\n",
    "\n",
    "# Делаем предсказания с использованием обученной модели\n",
    "y_manual = model.predict(new_scaled)\n",
    "\n",
    "# Преобразуем метки в читаемый формат, если необходимо\n",
    "results = pd.DataFrame({'text': new_data, 'label': y_manual})\n",
    "\n",
    "# Печатаем результаты\n",
    "results"
   ]
  }
 ],
 "metadata": {
  "kernelspec": {
   "display_name": "Python 3",
   "language": "python",
   "name": "python3"
  },
  "language_info": {
   "codemirror_mode": {
    "name": "ipython",
    "version": 3
   },
   "file_extension": ".py",
   "mimetype": "text/x-python",
   "name": "python",
   "nbconvert_exporter": "python",
   "pygments_lexer": "ipython3",
   "version": "3.11.4"
  }
 },
 "nbformat": 4,
 "nbformat_minor": 2
}
